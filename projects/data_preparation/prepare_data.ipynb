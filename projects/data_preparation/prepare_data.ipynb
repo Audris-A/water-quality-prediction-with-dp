{
 "cells": [
  {
   "cell_type": "code",
   "execution_count": 17,
   "metadata": {},
   "outputs": [
    {
     "name": "stderr",
     "output_type": "stream",
     "text": [
      "/var/folders/cm/q42fbtrn2_gc1yqbt191vh140000gn/T/ipykernel_6672/2240068153.py:17: FutureWarning: DataFrame.applymap has been deprecated. Use DataFrame.map instead.\n",
      "  X_lap = X.applymap(lambda i : i+np.random.laplace(0,0.08))\n"
     ]
    }
   ],
   "source": [
    "import numpy as np\n",
    "import pandas as pd\n",
    "from sklearn.model_selection import train_test_split\n",
    "from sklearn.preprocessing import StandardScaler\n",
    "\n",
    "FEATURES = ['Temp', 'TOC', 'Turbidity', 'pH', 'ORP', 'Conductivity', 'DoW', \n",
    "           'hour', 'workhour', 'workday'] \n",
    "TARGET = 'Anomaly'\n",
    "\n",
    "df = pd.read_csv('../../data/data_sample.csv')\n",
    "X = df[FEATURES].copy()\n",
    "y = df[TARGET].copy()\n",
    "\n",
    "sc = StandardScaler()\n",
    "X = pd.DataFrame(sc.fit_transform(X), columns=FEATURES)\n",
    "\n",
    "X_lap = X.applymap(lambda i : i+np.random.laplace(0,0.08))\n",
    "X = pd.concat([X,X_lap])\n",
    "y = pd.concat([y,y])\n",
    "\n",
    "X_train, X_test, y_train, y_test = train_test_split(X, y, shuffle=True, test_size=0.3, stratify=y)\n",
    "\n",
    "dataTrain = pd.DataFrame(X_train, columns=FEATURES)\n",
    "dataTrain[TARGET] = y_train\n",
    "dataTest = pd.DataFrame(X_test, columns=FEATURES)\n",
    "dataTest[TARGET] = y_test\n",
    "\n",
    "dataTrain.to_csv('../../data/data_train.csv', index=False)\n",
    "dataTest.to_csv('../../data/data_test.csv', index=False)\n"
   ]
  }
 ],
 "metadata": {
  "kernelspec": {
   "display_name": "canary",
   "language": "python",
   "name": "python3"
  },
  "language_info": {
   "codemirror_mode": {
    "name": "ipython",
    "version": 3
   },
   "file_extension": ".py",
   "mimetype": "text/x-python",
   "name": "python",
   "nbconvert_exporter": "python",
   "pygments_lexer": "ipython3",
   "version": "3.10.13"
  }
 },
 "nbformat": 4,
 "nbformat_minor": 2
}
